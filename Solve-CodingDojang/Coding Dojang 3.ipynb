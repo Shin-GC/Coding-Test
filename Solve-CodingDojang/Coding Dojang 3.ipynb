{
 "cells": [
  {
   "cell_type": "markdown",
   "metadata": {},
   "source": [
    "#### A씨는 게시판 프로그램을 작성하고 있다.\n",
    "#### A씨는 게시물의 총 건수와 한 페이지에 보여줄 게시물수를 입력으로 주었을 때 총 페이지수를 리턴하는 프로그램이 필요하다고 한다.\n",
    "\n",
    "#### 입력 : 총건수(m), 한페이지에 보여줄 게시물수(n) (단 n은 1보다 크거나 같다. n >= 1)\n",
    "#### 출력 : 총페이지수\n",
    "\n",
    "#### A씨가 필요한 프로그램을 작성하시오."
   ]
  },
  {
   "cell_type": "code",
   "execution_count": 27,
   "metadata": {},
   "outputs": [
    {
     "name": "stdout",
     "output_type": "stream",
     "text": [
      "총 게시글 수 입력 : 10\n",
      "한 페이지에 보여줄 게시글 수: 11\n"
     ]
    }
   ],
   "source": [
    "import math\n",
    "m=int(input(\"총 게시글 수 입력 : \"))\n",
    "n=int(input(\"한 페이지에 보여줄 게시글 수: \"))"
   ]
  },
  {
   "cell_type": "markdown",
   "metadata": {},
   "source": [
    "\n",
    "###### try:\n",
    "######     page=m//n #몫 (int)\n",
    "######     if m%n!=0: #나머지가 있을 경우\n",
    "######        page+=1 #페이지 증가\n",
    "######     print(page)\n",
    "###### except ZeroDivisionError: #n값이 1보다 작을경우\n",
    "######    print(\"n값이 1보다 작습니다.\")\n"
   ]
  },
  {
   "cell_type": "code",
   "execution_count": 29,
   "metadata": {},
   "outputs": [
    {
     "name": "stdout",
     "output_type": "stream",
     "text": [
      "1\n"
     ]
    }
   ],
   "source": [
    "try:\n",
    "    page=math.ceil(m/n)\n",
    "    print(page)\n",
    "except ZeroDivisionError:\n",
    "    print(\"n값이 1보다 작습니다.\")"
   ]
  }
 ],
 "metadata": {
  "kernelspec": {
   "display_name": "Python 3",
   "language": "python",
   "name": "python3"
  },
  "language_info": {
   "codemirror_mode": {
    "name": "ipython",
    "version": 3
   },
   "file_extension": ".py",
   "mimetype": "text/x-python",
   "name": "python",
   "nbconvert_exporter": "python",
   "pygments_lexer": "ipython3",
   "version": "3.8.5"
  }
 },
 "nbformat": 4,
 "nbformat_minor": 4
}
